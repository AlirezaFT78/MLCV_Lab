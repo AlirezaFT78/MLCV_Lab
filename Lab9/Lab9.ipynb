{
 "cells": [
  {
   "attachments": {},
   "cell_type": "markdown",
   "metadata": {},
   "source": [
    "# Lab 9 Alireza Farajtabrizi 97102185"
   ]
  },
  {
   "attachments": {},
   "cell_type": "markdown",
   "metadata": {},
   "source": [
    "## Importing Libraries"
   ]
  },
  {
   "cell_type": "code",
   "execution_count": 2,
   "metadata": {},
   "outputs": [],
   "source": [
    "#importing libraries \n",
    "import numpy as np\n",
    "import pandas as pd\n",
    "import matplotlib.pyplot as plt\n",
    "import cv2\n",
    "import random\n",
    "\n",
    "from sklearn.svm import SVC\n",
    "from sklearn import  metrics\n",
    "from sklearn.cluster import KMeans\n",
    "from sklearn.model_selection import GridSearchCV\n",
    "from mpl_toolkits.axes_grid1 import make_axes_locatable\n",
    "from sklearn.model_selection import StratifiedShuffleSplit\n",
    "from sklearn.metrics import confusion_matrix, classification_report, accuracy_score"
   ]
  },
  {
   "attachments": {},
   "cell_type": "markdown",
   "metadata": {},
   "source": [
    "## Part 1 & 2"
   ]
  },
  {
   "cell_type": "code",
   "execution_count": 3,
   "metadata": {},
   "outputs": [
    {
     "name": "stdout",
     "output_type": "stream",
     "text": [
      "handclapping :\n",
      "20% of Video features extraced\n",
      "40% of Video features extraced\n",
      "60% of Video features extraced\n",
      "80% of Video features extraced\n",
      "100% of Video features extraced\n",
      "handwaving :\n",
      "20% of Video features extraced\n",
      "40% of Video features extraced\n",
      "60% of Video features extraced\n",
      "80% of Video features extraced\n",
      "100% of Video features extraced\n",
      "running :\n",
      "20% of Video features extraced\n",
      "40% of Video features extraced\n",
      "60% of Video features extraced\n",
      "80% of Video features extraced\n",
      "100% of Video features extraced\n"
     ]
    }
   ],
   "source": [
    "videos = []\n",
    "labels = []\n",
    "\n",
    "folder_dir = 'handclapping'\n",
    "i = 1\n",
    "print('handclapping :')\n",
    "\n",
    "for file in os.listdir(folder_dir):\n",
    "    cap = cv2.VideoCapture(os.path.join(folder_dir,file))\n",
    "    video_features = []\n",
    "    \n",
    "    j = 0\n",
    "    if (cap.isOpened()== False):\n",
    "        print(\"Error opening video file\")\n",
    "    while(cap.isOpened()):\n",
    "        feature = []\n",
    "        ret, frame = cap.read()\n",
    "        \n",
    "        if ret == True:\n",
    "            frame_gray = cv2.cvtColor(frame, cv2.COLOR_BGR2GRAY)\n",
    "\n",
    "            if j !=0:\n",
    "                opf = cv2.calcOpticalFlowFarneback(frame_gray, old_fram, None,\n",
    "                                                   0.5, 1, 20, 1, 5, 1.2, cv2.OPTFLOW_FARNEBACK_GAUSSIAN)\n",
    "                # downsampling by 10*10 on optical flows\n",
    "                for h in range(120):\n",
    "                        if h % 10 != 0:\n",
    "                            continue\n",
    "                        for w in range(160):\n",
    "                            if w % 10 != 0:\n",
    "                                continue\n",
    "                            feature.append(opf[h,w,0])\n",
    "                            feature.append(opf[h,w,1])\n",
    "                            \n",
    "                video_features.append(feature)\n",
    "            j+=1\n",
    "        else:\n",
    "            break\n",
    "        old_fram = frame_gray \n",
    "        \n",
    "    i+=1\n",
    "    if (i%20==0):\n",
    "        print(f'{i}% of Video features extraced')     \n",
    "    videos.append(video_features)\n",
    "    labels.append(0)\n",
    "    cap.release()\n",
    "\n",
    "###############################################################################################################\n",
    "folder_dir = 'handwaving'\n",
    "i = 0\n",
    "print('handwaving :')\n",
    "\n",
    "for file in os.listdir(folder_dir):\n",
    "    cap = cv2.VideoCapture(os.path.join(folder_dir,file))\n",
    "    video_features = []\n",
    "    \n",
    "    j = 0\n",
    "    if (cap.isOpened()== False):\n",
    "        print(\"Error opening video file\")\n",
    "    while(cap.isOpened()):\n",
    "        feature = []\n",
    "        ret, frame = cap.read()\n",
    "        \n",
    "        if ret == True:\n",
    "            frame_gray = cv2.cvtColor(frame, cv2.COLOR_BGR2GRAY)\n",
    "\n",
    "            if j !=0:\n",
    "                opf = cv2.calcOpticalFlowFarneback(frame_gray, old_fram, None,\n",
    "                                                   0.5, 1, 20, 1, 5, 1.2, cv2.OPTFLOW_FARNEBACK_GAUSSIAN)\n",
    "                # downsampling by 10*10 on optical flows\n",
    "                for h in range(120):\n",
    "                        if h % 10 != 0:\n",
    "                            continue\n",
    "                        for w in range(160):\n",
    "                            if w % 10 != 0:\n",
    "                                continue\n",
    "                            feature.append(opf[h,w,0])\n",
    "                            feature.append(opf[h,w,1])\n",
    "                            \n",
    "                video_features.append(feature)           \n",
    "            j+=1\n",
    "        else:\n",
    "            break\n",
    "        old_fram = frame_gray\n",
    "\n",
    "    i+=1\n",
    "    if (i%20==0):\n",
    "        print(f'{i}% of Video features extraced')     \n",
    "    videos.append(video_features)\n",
    "    labels.append(1)\n",
    "    cap.release()\n",
    "    \n",
    "###############################################################################################################\n",
    "folder_dir = 'running'\n",
    "i = 0\n",
    "print('running :')\n",
    "\n",
    "for file in os.listdir(folder_dir):\n",
    "    cap = cv2.VideoCapture(os.path.join(folder_dir,file))\n",
    "    video_features = []\n",
    "    \n",
    "    j = 0\n",
    "    if (cap.isOpened()== False):\n",
    "        print(\"Error opening video file\")\n",
    "    while(cap.isOpened()):\n",
    "        feature = []\n",
    "        ret, frame = cap.read()\n",
    "        \n",
    "        if ret == True:\n",
    "            frame_gray = cv2.cvtColor(frame, cv2.COLOR_BGR2GRAY)\n",
    "\n",
    "            if j !=0:\n",
    "                opf = cv2.calcOpticalFlowFarneback(frame_gray, old_fram, None,\n",
    "                                                   0.5, 1, 20, 1, 5, 1.2, cv2.OPTFLOW_FARNEBACK_GAUSSIAN)\n",
    "                # downsampling by 10*10 on optical flows\n",
    "                for h in range(120):\n",
    "                        if h % 10 != 0:\n",
    "                            continue\n",
    "                        for w in range(160):\n",
    "                            if w % 10 != 0:\n",
    "                                continue\n",
    "                            feature.append(opf[h,w,0])\n",
    "                            feature.append(opf[h,w,1])\n",
    "                            \n",
    "                video_features.append(feature)\n",
    "            j+=1\n",
    "        else:\n",
    "            break\n",
    "        old_fram = frame_gray\n",
    "        \n",
    "    i+=1\n",
    "    if (i%20==0):\n",
    "        print(f'{i}% of Video features extraced')     \n",
    "    videos.append(video_features)\n",
    "    labels.append(2)\n",
    "    cap.release()\n",
    "    "
   ]
  },
  {
   "attachments": {},
   "cell_type": "markdown",
   "metadata": {},
   "source": [
    "## Part 3"
   ]
  },
  {
   "attachments": {},
   "cell_type": "markdown",
   "metadata": {},
   "source": [
    "### Spliting Data"
   ]
  },
  {
   "attachments": {},
   "cell_type": "markdown",
   "metadata": {},
   "source": [
    "چون تعداد فریم های ویدئو ها متفاوت است نمی توان با داده به صورت آرایه کار کرد و باید به فرم لیست از آن استفاده کرد. در نتیجه برای جدا کردن رندم ایندکس ها به صورت رندم تولید شده اند و از لیست فراخوانی شده اند."
   ]
  },
  {
   "cell_type": "code",
   "execution_count": 4,
   "metadata": {},
   "outputs": [],
   "source": [
    "index = random.sample(range(len(videos)),int(0.8*len(videos)))\n",
    "train = []\n",
    "y_train = []\n",
    "test = []\n",
    "y_test = []\n",
    "\n",
    "for i in index:\n",
    "    train.append(videos[i])\n",
    "    y_train.append(labels[i])\n",
    "    \n",
    "for i in list(set(range(len(videos)))-set(index)):\n",
    "    test.append(videos[i])\n",
    "    y_test.append(labels[i])"
   ]
  },
  {
   "attachments": {},
   "cell_type": "markdown",
   "metadata": {},
   "source": [
    "### Training K-Means Clusters"
   ]
  },
  {
   "attachments": {},
   "cell_type": "markdown",
   "metadata": {},
   "source": [
    "در این بخش فقط با استفاده از دادگان آموزش خوشه بندی ها در سه حالت انجام می شود"
   ]
  },
  {
   "cell_type": "code",
   "execution_count": 5,
   "metadata": {},
   "outputs": [
    {
     "name": "stdout",
     "output_type": "stream",
     "text": [
      "180 cluster started\n",
      "200 cluster started\n",
      "220 cluster started\n"
     ]
    },
    {
     "data": {
      "text/html": [
       "<style>#sk-container-id-1 {color: black;background-color: white;}#sk-container-id-1 pre{padding: 0;}#sk-container-id-1 div.sk-toggleable {background-color: white;}#sk-container-id-1 label.sk-toggleable__label {cursor: pointer;display: block;width: 100%;margin-bottom: 0;padding: 0.3em;box-sizing: border-box;text-align: center;}#sk-container-id-1 label.sk-toggleable__label-arrow:before {content: \"▸\";float: left;margin-right: 0.25em;color: #696969;}#sk-container-id-1 label.sk-toggleable__label-arrow:hover:before {color: black;}#sk-container-id-1 div.sk-estimator:hover label.sk-toggleable__label-arrow:before {color: black;}#sk-container-id-1 div.sk-toggleable__content {max-height: 0;max-width: 0;overflow: hidden;text-align: left;background-color: #f0f8ff;}#sk-container-id-1 div.sk-toggleable__content pre {margin: 0.2em;color: black;border-radius: 0.25em;background-color: #f0f8ff;}#sk-container-id-1 input.sk-toggleable__control:checked~div.sk-toggleable__content {max-height: 200px;max-width: 100%;overflow: auto;}#sk-container-id-1 input.sk-toggleable__control:checked~label.sk-toggleable__label-arrow:before {content: \"▾\";}#sk-container-id-1 div.sk-estimator input.sk-toggleable__control:checked~label.sk-toggleable__label {background-color: #d4ebff;}#sk-container-id-1 div.sk-label input.sk-toggleable__control:checked~label.sk-toggleable__label {background-color: #d4ebff;}#sk-container-id-1 input.sk-hidden--visually {border: 0;clip: rect(1px 1px 1px 1px);clip: rect(1px, 1px, 1px, 1px);height: 1px;margin: -1px;overflow: hidden;padding: 0;position: absolute;width: 1px;}#sk-container-id-1 div.sk-estimator {font-family: monospace;background-color: #f0f8ff;border: 1px dotted black;border-radius: 0.25em;box-sizing: border-box;margin-bottom: 0.5em;}#sk-container-id-1 div.sk-estimator:hover {background-color: #d4ebff;}#sk-container-id-1 div.sk-parallel-item::after {content: \"\";width: 100%;border-bottom: 1px solid gray;flex-grow: 1;}#sk-container-id-1 div.sk-label:hover label.sk-toggleable__label {background-color: #d4ebff;}#sk-container-id-1 div.sk-serial::before {content: \"\";position: absolute;border-left: 1px solid gray;box-sizing: border-box;top: 0;bottom: 0;left: 50%;z-index: 0;}#sk-container-id-1 div.sk-serial {display: flex;flex-direction: column;align-items: center;background-color: white;padding-right: 0.2em;padding-left: 0.2em;position: relative;}#sk-container-id-1 div.sk-item {position: relative;z-index: 1;}#sk-container-id-1 div.sk-parallel {display: flex;align-items: stretch;justify-content: center;background-color: white;position: relative;}#sk-container-id-1 div.sk-item::before, #sk-container-id-1 div.sk-parallel-item::before {content: \"\";position: absolute;border-left: 1px solid gray;box-sizing: border-box;top: 0;bottom: 0;left: 50%;z-index: -1;}#sk-container-id-1 div.sk-parallel-item {display: flex;flex-direction: column;z-index: 1;position: relative;background-color: white;}#sk-container-id-1 div.sk-parallel-item:first-child::after {align-self: flex-end;width: 50%;}#sk-container-id-1 div.sk-parallel-item:last-child::after {align-self: flex-start;width: 50%;}#sk-container-id-1 div.sk-parallel-item:only-child::after {width: 0;}#sk-container-id-1 div.sk-dashed-wrapped {border: 1px dashed gray;margin: 0 0.4em 0.5em 0.4em;box-sizing: border-box;padding-bottom: 0.4em;background-color: white;}#sk-container-id-1 div.sk-label label {font-family: monospace;font-weight: bold;display: inline-block;line-height: 1.2em;}#sk-container-id-1 div.sk-label-container {text-align: center;}#sk-container-id-1 div.sk-container {/* jupyter's `normalize.less` sets `[hidden] { display: none; }` but bootstrap.min.css set `[hidden] { display: none !important; }` so we also need the `!important` here to be able to override the default hidden behavior on the sphinx rendered scikit-learn.org. See: https://github.com/scikit-learn/scikit-learn/issues/21755 */display: inline-block !important;position: relative;}#sk-container-id-1 div.sk-text-repr-fallback {display: none;}</style><div id=\"sk-container-id-1\" class=\"sk-top-container\"><div class=\"sk-text-repr-fallback\"><pre>KMeans(n_clusters=220, n_init=5)</pre><b>In a Jupyter environment, please rerun this cell to show the HTML representation or trust the notebook. <br />On GitHub, the HTML representation is unable to render, please try loading this page with nbviewer.org.</b></div><div class=\"sk-container\" hidden><div class=\"sk-item\"><div class=\"sk-estimator sk-toggleable\"><input class=\"sk-toggleable__control sk-hidden--visually\" id=\"sk-estimator-id-1\" type=\"checkbox\" checked><label for=\"sk-estimator-id-1\" class=\"sk-toggleable__label sk-toggleable__label-arrow\">KMeans</label><div class=\"sk-toggleable__content\"><pre>KMeans(n_clusters=220, n_init=5)</pre></div></div></div></div></div>"
      ],
      "text/plain": [
       "KMeans(n_clusters=220, n_init=5)"
      ]
     },
     "execution_count": 5,
     "metadata": {},
     "output_type": "execute_result"
    }
   ],
   "source": [
    "# Extractin Trainset Features\n",
    "all_features = []\n",
    "for i in range(len(train)):\n",
    "    for j in range(len(train[i])):\n",
    "        all_features.append(train[i][j])\n",
    "        \n",
    "print('180 cluster started')       \n",
    "cluster_num = 180\n",
    "kmeans180 = KMeans(init='k-means++', n_clusters=cluster_num, n_init=5)\n",
    "kmeans180.fit(all_features)\n",
    "\n",
    "print('200 cluster started') \n",
    "cluster_num = 200\n",
    "kmeans200 = KMeans(init='k-means++', n_clusters=cluster_num, n_init=5)\n",
    "kmeans200.fit(all_features)\n",
    "\n",
    "print('220 cluster started') \n",
    "cluster_num = 220\n",
    "kmeans220 = KMeans(init='k-means++', n_clusters=cluster_num, n_init=5)\n",
    "kmeans220.fit(all_features)"
   ]
  },
  {
   "attachments": {},
   "cell_type": "markdown",
   "metadata": {},
   "source": [
    "### BoW Extraction"
   ]
  },
  {
   "attachments": {},
   "cell_type": "markdown",
   "metadata": {},
   "source": [
    "در این بخش برای هر فیلم بردار ویژگی آن که تعداد بعدی برابر با تعداد خوشه ها دارد تشکیل و نورمالایز می شود"
   ]
  },
  {
   "cell_type": "code",
   "execution_count": 6,
   "metadata": {},
   "outputs": [
    {
     "name": "stdout",
     "output_type": "stream",
     "text": [
      "Train Accuracy: 0.9707112970711297\n"
     ]
    }
   ],
   "source": [
    "kmeans = kmeans180\n",
    "cluster_num =180\n",
    "x_train = np.zeros((len(train), cluster_num))\n",
    "\n",
    "for i in range(len(train)):\n",
    "    a = kmeans.predict(train[i])\n",
    "    for j in range(len(train[i])):\n",
    "      x_train[i][a[j]] += 1 \n",
    "    x_train[i]/= len(train[i]) \n",
    "\n",
    "clf = SVC()\n",
    "clf.fit(x_train,y_train)\n",
    "\n",
    "y_pred_train = clf.predict(x_train)\n",
    "print('Train Accuracy:', accuracy_score(y_pred_train,y_train))\n"
   ]
  },
  {
   "attachments": {},
   "cell_type": "markdown",
   "metadata": {},
   "source": [
    "## Part 4 (Test and Evaluation)"
   ]
  },
  {
   "attachments": {},
   "cell_type": "markdown",
   "metadata": {},
   "source": [
    "### Best Cluster Count"
   ]
  },
  {
   "cell_type": "code",
   "execution_count": 52,
   "metadata": {},
   "outputs": [
    {
     "name": "stdout",
     "output_type": "stream",
     "text": [
      "Cluster Number : 180\n",
      "Train Accuracy : 0.9707112970711297\n",
      "Test Accuracy : 0.9833333333333333\n",
      "Cluster Number : 200\n",
      "Train Accuracy : 0.9790794979079498\n",
      "Test Accuracy : 0.9666666666666667\n",
      "Cluster Number : 220\n",
      "Train Accuracy : 0.9748953974895398\n",
      "Test Accuracy : 0.9666666666666667\n"
     ]
    }
   ],
   "source": [
    "params = [(kmeans180,180), (kmeans200,200), (kmeans220,220)]\n",
    "best_acu = 0\n",
    "\n",
    "for kmean, cluster_num in params:\n",
    "  \n",
    "  x_train = np.zeros((len(train),cluster_num))\n",
    "  for i in range(len(train)):\n",
    "      a = kmean.predict(train[i])\n",
    "      for j in range(len(train[i])):\n",
    "        x_train[i][a[j]] += 1 \n",
    "      x_train[i]/= len(train[i]) \n",
    "    \n",
    "  x_test = np.zeros((len(test),cluster_num))\n",
    "  for i in range(len(test)):\n",
    "      a = kmean.predict(test[i])\n",
    "      for j in range(len(test[i])):\n",
    "        x_test[i][a[j]] += 1 \n",
    "      x_test[i]/= len(test[i]) \n",
    "\n",
    "  clf = SVC()\n",
    "  clf.fit(x_train,y_train)\n",
    "\n",
    "  y_pred_train = clf.predict(x_train)\n",
    "  y_pred_test = clf.predict(x_test)\n",
    "  print('Cluster Number :',cluster_num)\n",
    "  print('Train Accuracy :', accuracy_score(y_pred_train,y_train))\n",
    "  print('Test Accuracy :', accuracy_score(y_pred_test,y_test))\n",
    "  \n",
    "  \n",
    "  if accuracy_score(y_pred_test,y_test)>best_acu:\n",
    "    best_acu = accuracy_score(y_pred_test,y_test)\n",
    "    best_cln = (kmean,cluster_num)\n",
    "    \n"
   ]
  },
  {
   "attachments": {},
   "cell_type": "markdown",
   "metadata": {},
   "source": [
    "بهترین تعداد کلاستر کمی متغیر است و بستگی به جداسازی رندوم داده های آموزش دارد اما معمولا 180 عدد خوبی است"
   ]
  },
  {
   "attachments": {},
   "cell_type": "markdown",
   "metadata": {},
   "source": [
    "### Tuning Model (Grid Search)"
   ]
  },
  {
   "cell_type": "code",
   "execution_count": 54,
   "metadata": {},
   "outputs": [
    {
     "name": "stdout",
     "output_type": "stream",
     "text": [
      "The best parameters are {'C': 1000.0, 'gamma': 1e-10, 'kernel': 'linear'} with a score of 0.98\n",
      "              precision    recall  f1-score   support\n",
      "\n",
      "           0       1.00      1.00      1.00        77\n",
      "           1       1.00      1.00      1.00        81\n",
      "           2       1.00      1.00      1.00        81\n",
      "\n",
      "    accuracy                           1.00       239\n",
      "   macro avg       1.00      1.00      1.00       239\n",
      "weighted avg       1.00      1.00      1.00       239\n",
      "\n"
     ]
    },
    {
     "data": {
      "image/png": "[encoded data removed]",
      "text/plain": [
       "<Figure size 640x480 with 2 Axes>"
      ]
     },
     "metadata": {},
     "output_type": "display_data"
    }
   ],
   "source": [
    "# fitting on best cluster\n",
    "kmeans = best_cln[0]\n",
    "cluster_num = best_cln[1]\n",
    "x_train = np.zeros((len(train),cluster_num))\n",
    "\n",
    "for i in range(len(train)):\n",
    "    a = kmeans.predict(train[i])\n",
    "    for j in range(len(train[i])):\n",
    "      x_train[i][a[j]] += 1 \n",
    "    x_train[i]/= len(train[i]) \n",
    "    \n",
    "# Grid Search   \n",
    "svc = SVC()\n",
    "kernels = ['rbf', 'linear']\n",
    "C_range = np.logspace(-10, 10, 21)\n",
    "gamma_range = np.logspace(-10, 10, 21)\n",
    "\n",
    "param_grid = dict(kernel=kernels, gamma=gamma_range, C=C_range)\n",
    "cv = StratifiedShuffleSplit(n_splits=10, test_size=0.2, random_state=42)\n",
    "grid = GridSearchCV(SVC(), param_grid=param_grid, cv=cv)\n",
    "grid.fit(x_train, y_train)\n",
    "\n",
    "print(\n",
    "    \"The best parameters are %s with a score of %0.2f\"\n",
    "    % (grid.best_params_, grid.best_score_)\n",
    ")\n",
    "\n",
    "\n",
    "# Building Model\n",
    "C, gamma, kernel = grid.best_params_['C'], grid.best_params_['gamma'], grid.best_params_['kernel']\n",
    "clf = SVC(kernel = kernel, C=C, gamma=gamma)\n",
    "clf.fit(x_train, y_train)\n",
    "\n",
    "# Evaluating Model\n",
    "y_pred_train = clf.predict(x_train)\n",
    "print(classification_report(y_train, y_pred_train))\n",
    "\n",
    "disp = metrics.ConfusionMatrixDisplay.from_predictions(y_train, y_pred_train)\n",
    "disp.figure_.suptitle(\"Confusion Matrix\")\n",
    "plt.show()"
   ]
  },
  {
   "attachments": {},
   "cell_type": "markdown",
   "metadata": {},
   "source": [
    "### Test Evaluation"
   ]
  },
  {
   "cell_type": "code",
   "execution_count": 59,
   "metadata": {},
   "outputs": [
    {
     "name": "stdout",
     "output_type": "stream",
     "text": [
      "              precision    recall  f1-score   support\n",
      "\n",
      "           0       0.96      1.00      0.98        22\n",
      "           1       1.00      0.95      0.97        19\n",
      "           2       1.00      1.00      1.00        19\n",
      "\n",
      "    accuracy                           0.98        60\n",
      "   macro avg       0.99      0.98      0.98        60\n",
      "weighted avg       0.98      0.98      0.98        60\n",
      "\n"
     ]
    },
    {
     "data": {
      "image/png": "[encoded data removed]",
      "text/plain": [
       "<Figure size 640x480 with 2 Axes>"
      ]
     },
     "metadata": {},
     "output_type": "display_data"
    }
   ],
   "source": [
    "x_test = np.zeros((len(test),cluster_num))\n",
    "\n",
    "for i in range(len(test)):\n",
    "    a = kmeans.predict(test[i])\n",
    "    for j in range(len(test[i])):\n",
    "      x_test[i][a[j]] += 1 \n",
    "    x_test[i]/= len(test[i]) \n",
    "    \n",
    "y_pred_test = clf.predict(x_test)\n",
    "print(classification_report(y_test, y_pred_test))\n",
    "\n",
    "disp = metrics.ConfusionMatrixDisplay.from_predictions(y_test, y_pred_test)\n",
    "disp.figure_.suptitle(\"Confusion Matrix\")\n",
    "plt.show()"
   ]
  },
  {
   "attachments": {},
   "cell_type": "markdown",
   "metadata": {},
   "source": [
    "## Part 5 Live "
   ]
  },
  {
   "cell_type": "code",
   "execution_count": 58,
   "metadata": {},
   "outputs": [
    {
     "name": "stdout",
     "output_type": "stream",
     "text": [
      "\n",
      "[2]\n",
      "\n",
      "[2]\n"
     ]
    }
   ],
   "source": [
    "cap = cv2.VideoCapture(0)\n",
    "video_features = []\n",
    "i=0\n",
    "\n",
    "while(cap.isOpened()):\n",
    "    ret, frame = cap.read() \n",
    "    cv2.imshow('Webcam', frame)\n",
    "    frame_gray = cv2.cvtColor(frame, cv2.COLOR_BGR2GRAY)\n",
    "    feature = []\n",
    "    \n",
    "    if ret == True:\n",
    "            frame_gray = cv2.cvtColor(frame, cv2.COLOR_BGR2GRAY)\n",
    "            frame_gray = cv2.resize(frame_gray,(160,120), interpolation = cv2.INTER_AREA)\n",
    "\n",
    "            if i!=0:\n",
    "                opf = cv2.calcOpticalFlowFarneback(frame_gray, old_fram, None,\n",
    "                                                   0.5, 1, 20, 1, 5, 1.2, cv2.OPTFLOW_FARNEBACK_GAUSSIAN)\n",
    "                for h in range(120):\n",
    "                        if h % 10 != 0:\n",
    "                            continue\n",
    "                        for w in range(160):\n",
    "                            if w % 10 != 0:\n",
    "                                continue\n",
    "                            feature.append(opf[h,w,0])\n",
    "                            feature.append(opf[h,w,1])\n",
    "                            \n",
    "                video_features.append(feature)\n",
    "            i+=1 \n",
    "    else:\n",
    "        break\n",
    "    old_fram = frame_gray \n",
    "    \n",
    "    if i%100 == 99:\n",
    "        x_live = np.zeros((1,cluster_num))\n",
    "        a = kmeans.predict(video_features)\n",
    "        print()\n",
    "        for k in range(len(video_features)):\n",
    "                x_live[0][a[k]] += 1   \n",
    "        x_live[0]/= len(video_features) \n",
    "        print(clf.predict(x_live))\n",
    "        video_features = []\n",
    "        i=0\n",
    "\n",
    "    # Wait for 'q' key to stop the program \n",
    "    if cv2.waitKey(1) & 0xFF == ord('q'):\n",
    "        break\n",
    "        \n",
    "# Close the window / Release webcam\n",
    "cap.release()\n",
    "cv2.destroyAllWindows()"
   ]
  },
  {
   "attachments": {},
   "cell_type": "markdown",
   "metadata": {},
   "source": [
    "کد این بخش به درستی نوشته شده اما شاید به دلیل تفاوتی که با تصویر برداری دیتاست دارد از لحاظ پس زمینه و نور و فاصله شخص از دوربین نتایج خوب نیستند"
   ]
  }
 ],
 "metadata": {
  "kernelspec": {
   "display_name": "Python 3",
   "language": "python",
   "name": "python3"
  },
  "language_info": {
   "codemirror_mode": {
    "name": "ipython",
    "version": 3
   },
   "file_extension": ".py",
   "mimetype": "text/x-python",
   "name": "python",
   "nbconvert_exporter": "python",
   "pygments_lexer": "ipython3",
   "version": "3.10.0"
  },
  "orig_nbformat": 4,
  "vscode": {
   "interpreter": {
    "hash": "c7138a203ef7aeece7a1358e4d4a9de5add35a9a7292be9026489a92585e22ee"
   }
  }
 },
 "nbformat": 4,
 "nbformat_minor": 2
}
