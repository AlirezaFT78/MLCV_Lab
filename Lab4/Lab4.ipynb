{
 "cells": [
  {
   "cell_type": "markdown",
   "id": "d16dd3e3",
   "metadata": {},
   "source": [
    "## Alireza Farajtabrizi (97102185) Lab4\n"
   ]
  },
  {
   "cell_type": "code",
   "execution_count": 1,
   "id": "244d94c6",
   "metadata": {},
   "outputs": [
    {
     "data": {
      "text/html": [
       "<style>.container { width:100% !important; }</style>"
      ],
      "text/plain": [
       "<IPython.core.display.HTML object>"
      ]
     },
     "metadata": {},
     "output_type": "display_data"
    }
   ],
   "source": [
    "from IPython.display import display, HTML\n",
    "display(HTML(\"<style>.container { width:100% !important; }</style>\"))\n",
    "import numpy as np"
   ]
  },
  {
   "cell_type": "markdown",
   "id": "762ad486",
   "metadata": {},
   "source": [
    "## Part 1"
   ]
  },
  {
   "cell_type": "markdown",
   "id": "987d87e5",
   "metadata": {},
   "source": [
    "### define a function to make labels and split train and test set"
   ]
  },
  {
   "cell_type": "code",
   "execution_count": 2,
   "id": "69dd9b58",
   "metadata": {},
   "outputs": [],
   "source": [
    "from os import listdir\n",
    "from skimage import io\n",
    "from sklearn.model_selection import train_test_split\n",
    "def load_and_split(folder_dir, train_size, label = 0):\n",
    "    X = []\n",
    "    for file in listdir(folder_dir):\n",
    "        img=io.imread(folder_dir+'/'+file,as_gray=True)\n",
    "        X.append(img.reshape(img.shape[0]*img.shape[1]))          \n",
    "    \n",
    "    y = np.full(len(X), label)\n",
    "    X = np.array(X)\n",
    "    \n",
    "    X_train, X_test, y_train, y_test = train_test_split(X, y, train_size=train_size ,random_state=np.random.randint(100))\n",
    "    return X_train, X_test, y_train, y_test"
   ]
  },
  {
   "cell_type": "markdown",
   "id": "fe8b4374",
   "metadata": {},
   "source": [
    "### using the to function to  build train and test set"
   ]
  },
  {
   "cell_type": "code",
   "execution_count": 3,
   "id": "f57ae760",
   "metadata": {},
   "outputs": [],
   "source": [
    "\n",
    "x_n_train, x_n_test, y_n_train, y_n_test = load_and_split('Neutral', 120, 0)\n",
    "x_h_train, x_h_test, y_h_train, y_h_test = load_and_split('Happy', 60, 1)\n",
    "x_s_train, x_s_test, y_s_train, y_s_test = load_and_split('Surprise', 60, 2)\n",
    "\n",
    "x_train = np.concatenate((x_n_train, x_h_train, x_s_train), axis = 0)\n",
    "x_test  = np.concatenate((x_n_test, x_h_test, x_s_test), axis = 0)\n",
    "y_train = np.concatenate((y_n_train, y_h_train, y_s_train))\n",
    "y_test = np.concatenate((y_n_test, y_h_test, y_s_test))"
   ]
  },
  {
   "cell_type": "markdown",
   "id": "01391eed",
   "metadata": {},
   "source": [
    "### PCA and Scaler"
   ]
  },
  {
   "cell_type": "code",
   "execution_count": 4,
   "id": "46fdcd64",
   "metadata": {},
   "outputs": [],
   "source": [
    "from sklearn.decomposition import PCA\n",
    "from sklearn.preprocessing import StandardScaler\n",
    "\n",
    "n=50\n",
    "\n",
    "pca = PCA(n_components=n)\n",
    "pca.fit(x_train)\n",
    "\n",
    "x_train = pca.transform(x_train)\n",
    "x_test  = pca.transform(x_test)\n",
    "\n",
    "scaler = StandardScaler()\n",
    "\n",
    "x_train = scaler.fit_transform(x_train)\n",
    "x_test  = scaler.transform(x_test)"
   ]
  },
  {
   "cell_type": "markdown",
   "id": "62fbe2dd",
   "metadata": {},
   "source": [
    "### Linear SVM and evaluation of it"
   ]
  },
  {
   "cell_type": "code",
   "execution_count": 5,
   "id": "d9d3e700",
   "metadata": {},
   "outputs": [
    {
     "name": "stdout",
     "output_type": "stream",
     "text": [
      "Confusion Matrix for train : \n",
      " [[120   0   0]\n",
      " [ 11  49   0]\n",
      " [ 17   0  43]]\n",
      "Confusion Matrix for test : \n",
      " [[70  0  0]\n",
      " [ 7 17  1]\n",
      " [ 7  0 21]]\n",
      "Persicion of train for each class : \t [0.81081081 1.         1.        ] \tand on average : \t 0.936936936936937\n",
      "Persicion of test for each class : \t [0.83333333 1.         0.95454545] \tand on average : \t 0.9292929292929294\n",
      "Recall of train for each class : \t [1.         0.81666667 0.71666667] \tand on average : \t 0.8444444444444444\n",
      "Recall of test for each class : \t [1.   0.68 0.75] \tand on average : \t 0.81\n"
     ]
    }
   ],
   "source": [
    "from sklearn.svm import SVC\n",
    "from sklearn.metrics import confusion_matrix\n",
    "from sklearn.metrics import precision_recall_fscore_support\n",
    "\n",
    "\n",
    "c = 0.01\n",
    "\n",
    "clf = SVC(kernel='linear', C=c)\n",
    "clf.fit(x_train, y_train)\n",
    "\n",
    "y_train_P= clf.predict(x_train)\n",
    "y_test_P= clf.predict(x_test)\n",
    "\n",
    "print(\"Confusion Matrix for train : \\n\" , confusion_matrix(y_train, y_train_P))\n",
    "print(\"Confusion Matrix for test : \\n\" , confusion_matrix(y_test, y_test_P))\n",
    "\n",
    "\n",
    "persicion_train = precision_recall_fscore_support(y_train, y_train_P)[0]\n",
    "persicion_test  = precision_recall_fscore_support(y_test, y_test_P)[0]\n",
    "recall_train = precision_recall_fscore_support(y_train, y_train_P)[1]\n",
    "recall_test  = precision_recall_fscore_support(y_test, y_test_P)[1]\n",
    "\n",
    "print(\"Persicion of train for each class : \\t\", persicion_train , \"\\tand on average : \\t\" , np.mean(persicion_train))\n",
    "print(\"Persicion of test for each class : \\t\", persicion_test ,\"\\tand on average : \\t\" , np.mean(persicion_test))\n",
    "print(\"Recall of train for each class : \\t\", recall_train,\"\\tand on average : \\t\" , np.mean(recall_train))\n",
    "print(\"Recall of test for each class : \\t\", recall_test,\"\\tand on average : \\t\" , np.mean(recall_test))\n"
   ]
  },
  {
   "cell_type": "markdown",
   "id": "63c99627",
   "metadata": {},
   "source": [
    "### define a cross-validation function to get best C"
   ]
  },
  {
   "cell_type": "code",
   "execution_count": 6,
   "id": "dbfaf1a6",
   "metadata": {},
   "outputs": [],
   "source": [
    "from sklearn.metrics import accuracy_score\n",
    "def find_C(X, y):\n",
    "    \n",
    "    C_range = np.logspace(-10, 10, 21)\n",
    "    acc = []\n",
    "    for c in C_range:\n",
    "        x_train , x_test, y_train, y_test =  train_test_split(X, y, train_size=0.80, random_state=np.random.randint(100))\n",
    "        clf = SVC(kernel='linear', C=c)\n",
    "        clf.fit(x_train, y_train)\n",
    "        acc.append(accuracy_score(y_test, clf.predict(x_test)))\n",
    "    return C_range[np.argmax(acc)]"
   ]
  },
  {
   "cell_type": "markdown",
   "id": "9351f044",
   "metadata": {},
   "source": [
    "### running the validation function several times to avoid the randomize effect"
   ]
  },
  {
   "cell_type": "code",
   "execution_count": 11,
   "id": "19891f20",
   "metadata": {},
   "outputs": [
    {
     "name": "stdout",
     "output_type": "stream",
     "text": [
      "the best C is : 1.0\n"
     ]
    }
   ],
   "source": [
    "C=[]\n",
    "for i in range(100):\n",
    "    C.append(find_C(x_train, y_train))\n",
    "best_c = max(set(C), key = C.count)\n",
    "print(\"the best C is :\" , best_c)"
   ]
  },
  {
   "cell_type": "markdown",
   "id": "7fb2aea6",
   "metadata": {},
   "source": [
    "if the above result is not 0.1 or 1 it means the the data set had a bad shuffle and you need to run again"
   ]
  },
  {
   "cell_type": "markdown",
   "id": "59e42c7f",
   "metadata": {},
   "source": [
    "### Linear SVM with best C and evaluation of it"
   ]
  },
  {
   "cell_type": "code",
   "execution_count": 8,
   "id": "f1a80009",
   "metadata": {},
   "outputs": [
    {
     "name": "stdout",
     "output_type": "stream",
     "text": [
      "Confusion Matrix for train : \n",
      " [[120   0   0]\n",
      " [  0  60   0]\n",
      " [  0   0  60]]\n",
      "Confusion Matrix for test : \n",
      " [[65  3  2]\n",
      " [ 2 23  0]\n",
      " [ 4  0 24]]\n",
      "Persicion of train for each class : \t [1. 1. 1.] \tand on average : \t 1.0\n",
      "Persicion of test for each class : \t [0.91549296 0.88461538 0.92307692] \tand on average : \t 0.9077284218129288\n",
      "Recall of train for each class : \t [1. 1. 1.] \tand on average : \t 1.0\n",
      "Recall of test for each class : \t [0.92857143 0.92       0.85714286] \tand on average : \t 0.901904761904762\n"
     ]
    }
   ],
   "source": [
    "c = best_c\n",
    "\n",
    "clf = SVC(kernel='linear', C=c)\n",
    "clf.fit(x_train, y_train)\n",
    "\n",
    "y_train_P= clf.predict(x_train)\n",
    "y_test_P= clf.predict(x_test)\n",
    "\n",
    "print(\"Confusion Matrix for train : \\n\" , confusion_matrix(y_train, y_train_P))\n",
    "print(\"Confusion Matrix for test : \\n\" , confusion_matrix(y_test, y_test_P))\n",
    "\n",
    "\n",
    "persicion_train = precision_recall_fscore_support(y_train, y_train_P)[0]\n",
    "recall_train = precision_recall_fscore_support(y_train, y_train_P)[1]\n",
    "persicion_test = precision_recall_fscore_support(y_test, y_test_P)[0]\n",
    "recall_test = precision_recall_fscore_support(y_test, y_test_P)[1]\n",
    "\n",
    "print(\"Persicion of train for each class : \\t\", persicion_train , \"\\tand on average : \\t\" , np.mean(persicion_train))\n",
    "print(\"Persicion of test for each class : \\t\", persicion_test ,\"\\tand on average : \\t\" , np.mean(persicion_test))\n",
    "print(\"Recall of train for each class : \\t\", recall_train,\"\\tand on average : \\t\" , np.mean(recall_train))\n",
    "print(\"Recall of test for each class : \\t\", recall_test,\"\\tand on average : \\t\" , np.mean(recall_test))"
   ]
  },
  {
   "cell_type": "markdown",
   "id": "2939738a",
   "metadata": {},
   "source": [
    "as you can see the Persicion has decreased by 0.02 and Recall is increased by 0.08 and the number of miss predictions has decreased by 4\n",
    "since the best c is not that different from default or some times its the same you dont see that much approvement if you put the c bellow 10^(-2) you will see how bad the result will become"
   ]
  },
  {
   "cell_type": "markdown",
   "id": "b7b9da47",
   "metadata": {},
   "source": [
    "## Part 2"
   ]
  },
  {
   "cell_type": "markdown",
   "id": "662dbe49",
   "metadata": {},
   "source": [
    "### Grid Search"
   ]
  },
  {
   "cell_type": "code",
   "execution_count": 9,
   "id": "afc485f7",
   "metadata": {},
   "outputs": [
    {
     "name": "stdout",
     "output_type": "stream",
     "text": [
      "The best parameters are {'C': 1000.0, 'gamma': 0.0001} with a score of 0.93\n"
     ]
    }
   ],
   "source": [
    "from sklearn.svm import SVC\n",
    "from sklearn.model_selection import StratifiedShuffleSplit\n",
    "from sklearn.model_selection import GridSearchCV\n",
    "\n",
    "C_range = np.logspace(-10, 10, 21)\n",
    "gamma_range = np.logspace(-10, 10, 21)\n",
    "param_grid = dict(gamma=gamma_range, C=C_range)\n",
    "cv = StratifiedShuffleSplit(n_splits=5, test_size=0.2, random_state=42)\n",
    "grid = GridSearchCV(SVC(), param_grid=param_grid, cv=cv)\n",
    "grid.fit(x_train, y_train)\n",
    "\n",
    "print(\n",
    "    \"The best parameters are %s with a score of %0.2f\"\n",
    "    % (grid.best_params_, grid.best_score_)\n",
    ")"
   ]
  },
  {
   "cell_type": "markdown",
   "id": "5c4adac3",
   "metadata": {},
   "source": [
    "### RBF SVM with best parameters and evaluation of it"
   ]
  },
  {
   "cell_type": "code",
   "execution_count": 10,
   "id": "8d2d485f",
   "metadata": {},
   "outputs": [
    {
     "name": "stdout",
     "output_type": "stream",
     "text": [
      "Confusion Matrix for train : \n",
      " [[120   0   0]\n",
      " [  0  60   0]\n",
      " [  1   0  59]]\n",
      "Confusion Matrix for test : \n",
      " [[67  1  2]\n",
      " [ 2 23  0]\n",
      " [ 4  0 24]]\n",
      "Persicion of train for each class : \t [0.99173554 1.         1.        ] \tand on average : \t 0.997245179063361\n",
      "Persicion of test for each class : \t [0.91780822 0.95833333 0.92307692] \tand on average : \t 0.9330728251961129\n",
      "Recall of train for each class : \t [1.         1.         0.98333333] \tand on average : \t 0.9944444444444445\n",
      "Recall of test for each class : \t [0.95714286 0.92       0.85714286] \tand on average : \t 0.9114285714285715\n"
     ]
    }
   ],
   "source": [
    "C, gamma = grid.best_params_['C'], grid.best_params_['gamma']\n",
    "clf = SVC(C=C, gamma=gamma)\n",
    "clf.fit(x_train, y_train)\n",
    "y_train_P= clf.predict(x_train)\n",
    "y_test_P= clf.predict(x_test)\n",
    "\n",
    "print(\"Confusion Matrix for train : \\n\" , confusion_matrix(y_train, y_train_P))\n",
    "print(\"Confusion Matrix for test : \\n\" , confusion_matrix(y_test, y_test_P))\n",
    "\n",
    "\n",
    "persicion_train = precision_recall_fscore_support(y_train, y_train_P)[0]\n",
    "recall_train = precision_recall_fscore_support(y_train, y_train_P)[1]\n",
    "persicion_test = precision_recall_fscore_support(y_test, y_test_P)[0]\n",
    "recall_test = precision_recall_fscore_support(y_test, y_test_P)[1]\n",
    "\n",
    "print(\"Persicion of train for each class : \\t\", persicion_train , \"\\tand on average : \\t\" , np.mean(persicion_train))\n",
    "print(\"Persicion of test for each class : \\t\", persicion_test ,\"\\tand on average : \\t\" , np.mean(persicion_test))\n",
    "print(\"Recall of train for each class : \\t\", recall_train,\"\\tand on average : \\t\" , np.mean(recall_train))\n",
    "print(\"Recall of test for each class : \\t\", recall_test,\"\\tand on average : \\t\" , np.mean(recall_test))"
   ]
  },
  {
   "cell_type": "markdown",
   "id": "df0d6aba",
   "metadata": {},
   "source": [
    "the result of RBF SVM comparing to Linear SVM is better (not much).the Persicion is increased by 0.03 and the recall is increased by 0.02 and number of miss predictions is decreased by 2 "
   ]
  }
 ],
 "metadata": {
  "kernelspec": {
   "display_name": "Python 3.10.0 64-bit",
   "language": "python",
   "name": "python3"
  },
  "language_info": {
   "codemirror_mode": {
    "name": "ipython",
    "version": 3
   },
   "file_extension": ".py",
   "mimetype": "text/x-python",
   "name": "python",
   "nbconvert_exporter": "python",
   "pygments_lexer": "ipython3",
   "version": "3.10.0"
  },
  "vscode": {
   "interpreter": {
    "hash": "c7138a203ef7aeece7a1358e4d4a9de5add35a9a7292be9026489a92585e22ee"
   }
  }
 },
 "nbformat": 4,
 "nbformat_minor": 5
}
