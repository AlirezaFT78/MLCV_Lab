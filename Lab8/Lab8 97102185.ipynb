{
 "cells": [
  {
   "attachments": {},
   "cell_type": "markdown",
   "id": "084826a1",
   "metadata": {},
   "source": [
    "# Alireza Farajtabrizi (97102185)"
   ]
  },
  {
   "attachments": {},
   "cell_type": "markdown",
   "id": "372c7cc5",
   "metadata": {},
   "source": [
    "### Importing Libraries and Functions"
   ]
  },
  {
   "cell_type": "code",
   "execution_count": 6,
   "id": "bc587151",
   "metadata": {},
   "outputs": [],
   "source": [
    "import numpy as np\n",
    "import matplotlib.pyplot as plt\n",
    "import cv2\n",
    "import time\n",
    "import os\n",
    "import skimage.io as io\n",
    "\n",
    "from sklearn.svm import SVC\n",
    "from skimage.transform import rescale\n",
    "from sklearn.pipeline import make_pipeline\n",
    "from sklearn.metrics import confusion_matrix\n",
    "from sklearn.model_selection import GridSearchCV\n",
    "from sklearn.preprocessing import StandardScaler\n",
    "from sklearn.model_selection import train_test_split\n",
    "from sklearn.model_selection import StratifiedShuffleSplit\n",
    "from sklearn.metrics import precision_recall_fscore_support\n"
   ]
  },
  {
   "attachments": {},
   "cell_type": "markdown",
   "id": "48c43d7b",
   "metadata": {},
   "source": [
    "# Part 1 (Optical Flow Webcam)"
   ]
  },
  {
   "attachments": {},
   "cell_type": "markdown",
   "id": "140445aa",
   "metadata": {},
   "source": [
    "### Dense"
   ]
  },
  {
   "attachments": {},
   "cell_type": "markdown",
   "id": "f2a75116",
   "metadata": {},
   "source": [
    "در این قسمت و قسمت بعد جهت بسته شدن پنجره ی وبکم دکمه ی q را فشار دهید"
   ]
  },
  {
   "cell_type": "code",
   "execution_count": 1,
   "id": "3047748c",
   "metadata": {},
   "outputs": [],
   "source": [
    "webcam = cv2.VideoCapture(0)\n",
    "frame_old = cv2.cvtColor(webcam.read()[1], cv2.COLOR_BGR2GRAY)\n",
    "\n",
    "hsv = np.zeros_like(webcam.read()[1])\n",
    "start_time = time.time()\n",
    "\n",
    "while(time.time() < start_time + 30):\n",
    "    \n",
    "    frame_new = cv2.cvtColor(webcam.read()[1], cv2.COLOR_BGR2GRAY)\n",
    "    optical_flow = cv2.calcOpticalFlowFarneback(frame_old, frame_new, None, 0.5, 3, 15, 3, 5, 1.2, 0)\n",
    "    magnitude, angle = cv2.cartToPolar(optical_flow[..., 0], optical_flow[..., 1])\n",
    "    frame_old = frame_new\n",
    "\n",
    "    hsv[:,:,0] = angle/np.pi*90\n",
    "    hsv[:,:,1] = 255\n",
    "    hsv[:,:,2] = cv2.normalize(magnitude, None, 0, 255, cv2.NORM_MINMAX)\n",
    "    \n",
    "    cv2.imshow('', cv2.cvtColor(hsv, cv2.COLOR_HSV2BGR))\n",
    "    \n",
    "    if (cv2.waitKey(100) & 0xFF == ord('q')):\n",
    "        break\n",
    "\n",
    "webcam.release()\n",
    "cv2.destroyAllWindows()"
   ]
  },
  {
   "attachments": {},
   "cell_type": "markdown",
   "id": "19dfc472",
   "metadata": {},
   "source": [
    "### Sparse"
   ]
  },
  {
   "cell_type": "code",
   "execution_count": 2,
   "id": "8891b19f",
   "metadata": {},
   "outputs": [],
   "source": [
    "webcam = cv2.VideoCapture(0)\n",
    "\n",
    "# params for ShiTomasi corner detection\n",
    "feature_params = dict( maxCorners = 100,\n",
    "                       qualityLevel = 0.1,\n",
    "                       minDistance = 7,\n",
    "                       blockSize = 7 )\n",
    "# Parameters for lucas kanade optical flow\n",
    "lk_params = dict( winSize  = (15, 15),\n",
    "                  maxLevel = 2,\n",
    "                  criteria = (cv2.TERM_CRITERIA_EPS | cv2.TERM_CRITERIA_COUNT, 10, 0.03))\n",
    "# Create some random colors\n",
    "color = np.random.randint(0, 255, (100, 3))\n",
    "# Take first frame and find corners in it\n",
    "ret, old_frame = webcam.read()\n",
    "old_gray = cv2.cvtColor(old_frame, cv2.COLOR_BGR2GRAY)\n",
    "p0 = cv2.goodFeaturesToTrack(old_gray, mask = None, **feature_params)\n",
    "# Create a mask image for drawing purposes\n",
    "mask = np.zeros_like(old_frame)\n",
    "\n",
    "start_time = time.time()\n",
    "\n",
    "while(time.time() < start_time + 30):\n",
    "    ret, frame = webcam.read()\n",
    "    if not ret:\n",
    "        print('No frames grabbed!')\n",
    "        break\n",
    "    frame_gray = cv2.cvtColor(frame, cv2.COLOR_BGR2GRAY)\n",
    "    # calculate optical flow\n",
    "    p1, st, err = cv2.calcOpticalFlowPyrLK(old_gray, frame_gray, p0, None, **lk_params)\n",
    "    # Select good points\n",
    "    if p1 is not None:\n",
    "        good_new = p1[st==1]\n",
    "        good_old = p0[st==1]\n",
    "    # draw the tracks\n",
    "    for i, (new, old) in enumerate(zip(good_new, good_old)):\n",
    "        a, b = new.ravel()\n",
    "        c, d = old.ravel()\n",
    "        mask = cv2.line(mask, (int(a), int(b)), (int(c), int(d)), color[i].tolist(), 2)\n",
    "        frame = cv2.circle(frame, (int(a), int(b)), 5, color[i].tolist(), -1)\n",
    "    img = cv2.add(frame, mask)\n",
    "    cv2.imshow('frame', img)\n",
    "\n",
    "    if (cv2.waitKey(100) & 0xFF == ord('q')):\n",
    "        break\n",
    "    # Now update the previous frame and previous points\n",
    "    old_gray = frame_gray.copy()\n",
    "    p0 = good_new.reshape(-1, 1, 2)\n",
    "\n",
    "\n",
    "\n",
    "webcam.release()\n",
    "cv2.destroyAllWindows()"
   ]
  },
  {
   "attachments": {},
   "cell_type": "markdown",
   "id": "7c0bcc06",
   "metadata": {},
   "source": [
    "## Part 2 (Classification using SVM and Optical Flow)"
   ]
  },
  {
   "attachments": {},
   "cell_type": "markdown",
   "id": "58ceaa2a",
   "metadata": {},
   "source": [
    "### Functions to do the Pre-Process"
   ]
  },
  {
   "cell_type": "code",
   "execution_count": 3,
   "id": "52888937",
   "metadata": {},
   "outputs": [
    {
     "data": {
      "image/png": "[encoded data removed]",
      "text/plain": [
       "<Figure size 640x480 with 1 Axes>"
      ]
     },
     "metadata": {},
     "output_type": "display_data"
    }
   ],
   "source": [
    "def flow(frame_old, frame_new):\n",
    "    optical_flow = cv2.calcOpticalFlowFarneback(frame_old, frame_new, None, 0.5, 3, 15, 3, 5, 1.2, 0)\n",
    "    return cv2.cartToPolar(optical_flow[..., 0], optical_flow[..., 1])\n",
    "def get_hist_flow(images):\n",
    "    n = len(images)\n",
    "    hist = np.zeros((n-1, 8))\n",
    "    for i in range(n-1):\n",
    "        magnitude, angle = flow(images[i], images[i+1])\n",
    "        hist[i,:] = np.histogram(angle, range=(0, 2*np.pi), bins=8)[0]\n",
    "    return hist\n",
    "\n",
    "center = 600, 410\n",
    "axes = 250, 300\n",
    "mask = np.zeros((900, 1200), np.uint8)\n",
    "cv2.ellipse(mask, center, axes, 0, 0, 360, 1, -1)\n",
    "\n",
    "plt.imshow(mask,cmap='gray')\n",
    "plt.axis('off')\n",
    "plt.show()"
   ]
  },
  {
   "attachments": {},
   "cell_type": "markdown",
   "id": "2d19ed81",
   "metadata": {},
   "source": [
    "### Loading and Processing Frames"
   ]
  },
  {
   "cell_type": "code",
   "execution_count": 4,
   "id": "7162b7e7",
   "metadata": {},
   "outputs": [],
   "source": [
    "hist_happy = np.zeros((30, 16))\n",
    "folder_dir = 'Happy Videos'\n",
    "i = 0 \n",
    "\n",
    "for file in os.listdir(folder_dir):\n",
    "    images = []\n",
    "    for image in os.listdir(folder_dir+'/'+file):\n",
    "        img= io.imread(folder_dir+'/'+file+'/'+image, as_gray=True)\n",
    "        img = rescale(img*mask, 0.5, anti_aliasing = True)\n",
    "        images.append(img)\n",
    "    hists = get_hist_flow(images)\n",
    "    hist_happy[i,:8] = np.mean(hists,axis = 0)\n",
    "    hist_happy[i,8:] = np.max(hists, axis = 0)\n",
    "    i += 1\n",
    "    \n",
    "images = []   \n",
    "hist_surprise = np.zeros((30, 16))\n",
    "folder_dir = 'Surprise Videos'\n",
    "i = 0\n",
    "\n",
    "for file in os.listdir(folder_dir):\n",
    "    images = []  \n",
    "    for image in os.listdir(folder_dir+'/'+file):\n",
    "        img= io.imread(folder_dir+'/'+file+'/'+image, as_gray=True)\n",
    "        img = rescale(img*mask, 0.5, anti_aliasing = True)\n",
    "        images.append(img)\n",
    "    hists = get_hist_flow(images)\n",
    "    hist_surprise[i,0:8] = np.mean(hists, axis = 0)\n",
    "    hist_surprise[i,8:16] = np.max(hists, axis = 0)\n",
    "    i += 1"
   ]
  },
  {
   "attachments": {},
   "cell_type": "markdown",
   "id": "6167c3e3",
   "metadata": {},
   "source": [
    "### Splitting Data and Grid Search"
   ]
  },
  {
   "cell_type": "code",
   "execution_count": 20,
   "id": "dcc1f3ad",
   "metadata": {},
   "outputs": [
    {
     "name": "stdout",
     "output_type": "stream",
     "text": [
      "The best parameters are {'C': 10.0, 'gamma': 0.1} with a score of 0.74\n"
     ]
    }
   ],
   "source": [
    "X_train, X_test, y_train, y_test = train_test_split(np.concatenate((hist_happy, hist_surprise)),\n",
    "                                                    np.concatenate((np.zeros(len(hist_happy)),\n",
    "                                                                    np.ones(len(hist_surprise)))),\n",
    "                                                    train_size=0.7,\n",
    "                                                    random_state=42)\n",
    "\n",
    "scaler = StandardScaler()\n",
    "X_train = scaler.fit_transform(X_train)\n",
    "X_test = scaler.transform(X_test)\n",
    "\n",
    "svc = SVC(kernel = 'rbf')\n",
    "\n",
    "C_range = np.logspace(-10, 10, 21)\n",
    "gamma_range = np.logspace(-10, 10, 21)\n",
    "param_grid = dict(gamma=gamma_range, C=C_range)\n",
    "cv = StratifiedShuffleSplit(n_splits=10, test_size=0.2, random_state=42)\n",
    "grid = GridSearchCV(SVC(), param_grid=param_grid, cv=cv)\n",
    "grid.fit(X_train, y_train)\n",
    "\n",
    "print(\n",
    "    \"The best parameters are %s with a score of %0.2f\"\n",
    "    % (grid.best_params_, grid.best_score_)\n",
    ")"
   ]
  },
  {
   "attachments": {},
   "cell_type": "markdown",
   "id": "faeaa6a6",
   "metadata": {},
   "source": [
    "### Fitting Metrics"
   ]
  },
  {
   "cell_type": "code",
   "execution_count": 21,
   "id": "82e21b62",
   "metadata": {},
   "outputs": [
    {
     "name": "stdout",
     "output_type": "stream",
     "text": [
      "Confusion Matrix for train : \n",
      " [[22  0]\n",
      " [ 0 20]]\n",
      "Confusion Matrix for test : \n",
      " [[6 2]\n",
      " [3 7]]\n",
      "Persicion of train for each class : \t [1. 1.] \tand on average : \t 1.0\n",
      "Persicion of test for each class : \t [0.66666667 0.77777778] \tand on average : \t 0.7222222222222222\n",
      "Recall of train for each class : \t [1. 1.] \tand on average : \t 1.0\n",
      "Recall of test for each class : \t [0.75 0.7 ] \tand on average : \t 0.725\n"
     ]
    }
   ],
   "source": [
    "C, gamma = grid.best_params_['C'], grid.best_params_['gamma']\n",
    "clf = SVC(kernel = 'rbf', C=C, gamma=gamma)\n",
    "clf.fit(X_train, y_train)\n",
    "\n",
    "y_train_p= clf.predict(X_train)\n",
    "y_test_p = clf.predict(X_test)\n",
    "\n",
    "print(\"Confusion Matrix for train : \\n\" , confusion_matrix(y_train, y_train_p))\n",
    "print(\"Confusion Matrix for test : \\n\" , confusion_matrix(y_test, y_test_p))\n",
    "\n",
    "\n",
    "persicion_train = precision_recall_fscore_support(y_train, y_train_p)[0]\n",
    "recall_train = precision_recall_fscore_support(y_train, y_train_p)[1]\n",
    "persicion_test = precision_recall_fscore_support(y_test, y_test_p)[0]\n",
    "recall_test = precision_recall_fscore_support(y_test, y_test_p)[1]\n",
    "\n",
    "print(\"Persicion of train for each class : \\t\", persicion_train , \"\\tand on average : \\t\" , np.mean(persicion_train))\n",
    "print(\"Persicion of test for each class : \\t\", persicion_test ,\"\\tand on average : \\t\" , np.mean(persicion_test))\n",
    "print(\"Recall of train for each class : \\t\", recall_train,\"\\tand on average : \\t\" , np.mean(recall_train))\n",
    "print(\"Recall of test for each class : \\t\", recall_test,\"\\tand on average : \\t\" , np.mean(recall_test))"
   ]
  },
  {
   "attachments": {},
   "cell_type": "markdown",
   "id": "e98c31cd",
   "metadata": {},
   "source": [
    "دلیل اینکه درصد حدود 70 است احتمالا تعداد دیتای کم می باشد"
   ]
  }
 ],
 "metadata": {
  "kernelspec": {
   "display_name": "Python 3",
   "language": "python",
   "name": "python3"
  },
  "language_info": {
   "codemirror_mode": {
    "name": "ipython",
    "version": 3
   },
   "file_extension": ".py",
   "mimetype": "text/x-python",
   "name": "python",
   "nbconvert_exporter": "python",
   "pygments_lexer": "ipython3",
   "version": "3.10.0"
  },
  "vscode": {
   "interpreter": {
    "hash": "c7138a203ef7aeece7a1358e4d4a9de5add35a9a7292be9026489a92585e22ee"
   }
  }
 },
 "nbformat": 4,
 "nbformat_minor": 5
}
